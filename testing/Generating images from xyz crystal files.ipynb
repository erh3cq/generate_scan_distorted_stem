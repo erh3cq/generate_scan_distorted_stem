{
 "cells": [
  {
   "cell_type": "code",
   "execution_count": 5,
   "metadata": {},
   "outputs": [],
   "source": [
    "import hyperspy.api as hs\n",
    "import numpy as np\n",
    "import matplotlib.pyplot as plt\n",
    "\n",
    "import ase\n",
    "from ase.io import read\n",
    "from ase.build import surface, make_supercell, bulk\n",
    "from ase.visualize import view\n",
    "from sim.model import save_cell_for_prismatic"
   ]
  },
  {
   "cell_type": "code",
   "execution_count": 2,
   "metadata": {},
   "outputs": [],
   "source": [
    "import os"
   ]
  },
  {
   "cell_type": "code",
   "execution_count": 3,
   "metadata": {},
   "outputs": [],
   "source": [
    "os.chdir(r'Y:\\Collaboration\\Oslo\\Phuong MgSi Bi\\Simulations')"
   ]
  },
  {
   "cell_type": "code",
   "execution_count": 4,
   "metadata": {},
   "outputs": [],
   "source": [
    "def cell2sig(cell, pixel_size = 0.05, sigma=0.25):\n",
    "    Signal2D = hs.signals.Signal2D\n",
    "    Gaussian2D = hs.model.components2D.Gaussian2D\n",
    "\n",
    "\n",
    "    XLEN, YLEN = (cell.cell.diagonal()[:2] // pixel_size).astype(int)\n",
    "    ax0 = {\n",
    "        'name':'y',\n",
    "        'size': YLEN,\n",
    "        'offset':0,\n",
    "        'scale':pixel_size, \n",
    "        'units':'Å',\n",
    "    }\n",
    "    ax1 = {\n",
    "        'name':'x', \n",
    "        'size': XLEN, \n",
    "        'offset':0,\n",
    "        'scale':pixel_size, \n",
    "        'units':'Å',\n",
    "    }\n",
    "\n",
    "    axes = [ax0, ax1]\n",
    "    s = Signal2D(np.zeros((YLEN, XLEN)), axes=axes)\n",
    "\n",
    "    m = s.create_model()\n",
    "\n",
    "    # Add equivalent unit cells around the image, so that any gaussians that extend into the image, do so.\n",
    "\n",
    "    shifts = [(-1, -1), (-1, 0), (-1, 1), (0, -1), (0, 0), (0, 1), (1, -1), (1, 0), (1, 1)]\n",
    "\n",
    "    cell_center = np.array([(ax.high_value + ax.scale + ax.low_value)/2 for ax in s.axes_manager.signal_axes])\n",
    "    diagonal_radius = np.array([ax.high_value for ax in s.axes_manager.signal_axes])\n",
    "\n",
    "    for atom in cell:\n",
    "        for offset in shifts:\n",
    "            xyposition = atom.position[:2] + cell.cell.diagonal()[:2] * offset\n",
    "            if np.abs(np.linalg.norm(xyposition - cell_center)) > np.linalg.norm(cell_center - diagonal_radius) + 1:\n",
    "                continue\n",
    "            A = atom.number**2\n",
    "            x, y = xyposition\n",
    "            g = Gaussian2D(A, sigma, sigma, x, y )\n",
    "            m.append(g)\n",
    "    s2 = m.as_signal()\n",
    "    return s2"
   ]
  },
  {
   "cell_type": "code",
   "execution_count": null,
   "metadata": {},
   "outputs": [],
   "source": []
  },
  {
   "cell_type": "code",
   "execution_count": 19,
   "metadata": {},
   "outputs": [],
   "source": [
    "cell = read('Mg2Si_For_Phuong.cif')\n",
    "\n",
    "cells = []\n",
    "#sigs = []\n",
    "for n in range(1,15):\n",
    "    cell2 = surface(cell, (0,0,1), n, vacuum=2,).repeat((3,3,1))\n",
    "    centre = (9.516, 9.516)\n",
    "    left = (6.344, 9.516)\n",
    "    \n",
    "    pos = cell2.positions\n",
    "    low = np.where(np.linalg.norm(pos[:,:2] - centre, axis=-1) < 0.1)\n",
    "    index_center = low[0][np.argmin(pos[low][:,2])]\n",
    "\n",
    "    #low = np.where(np.linalg.norm(pos[:,:2] - left, axis=-1) < 0.1)\n",
    "    #index_left = low[0][np.argmin(pos[low][:,2])]\n",
    "\n",
    "    cell2[index_center].number = 83\n",
    "    cells.append(cell2)\n",
    "    save_cell_for_prismatic(cell2, 'cells\\\\n{:02d}.xyz'.format(n))\n",
    "    #sigs.append(cell2sig(cell2))"
   ]
  },
  {
   "cell_type": "code",
   "execution_count": 15,
   "metadata": {},
   "outputs": [
    {
     "data": {
      "text/plain": [
       "'-2'"
      ]
     },
     "execution_count": 15,
     "metadata": {},
     "output_type": "execute_result"
    }
   ],
   "source": [
    "\"{:02d}\".format(-2)"
   ]
  },
  {
   "cell_type": "code",
   "execution_count": 236,
   "metadata": {},
   "outputs": [
    {
     "data": {
      "image/png": "[encoded data removed]",
      "text/plain": [
       "<Figure size 432x288 with 10 Axes>"
      ]
     },
     "metadata": {
      "needs_background": "light"
     },
     "output_type": "display_data"
    }
   ],
   "source": [
    "hs.plot.plot_images(sigs, axes_decor=None, cmap='jet')\n",
    "plt.tight_layout()"
   ]
  },
  {
   "cell_type": "code",
   "execution_count": 196,
   "metadata": {},
   "outputs": [],
   "source": [
    "save_cell_for_prismatic(cells[-1], 'size5')"
   ]
  },
  {
   "cell_type": "code",
   "execution_count": 187,
   "metadata": {},
   "outputs": [],
   "source": [
    "sigs = []\n",
    "for n in range(1,6):\n",
    "    cell = surface(cell, (0,0,1), n, vacuum=2,)\n",
    "    sigs.append(cell2sig(cell))"
   ]
  },
  {
   "cell_type": "code",
   "execution_count": 192,
   "metadata": {},
   "outputs": [
    {
     "data": {
      "text/plain": [
       "[732.6632448802198,\n",
       " 1465.3264897604397,\n",
       " 2197.9897346406597,\n",
       " 2930.65297952088,\n",
       " 3663.3162244011]"
      ]
     },
     "execution_count": 192,
     "metadata": {},
     "output_type": "execute_result"
    }
   ],
   "source": [
    "[s.data.max() for s in sigs]"
   ]
  },
  {
   "cell_type": "code",
   "execution_count": null,
   "metadata": {},
   "outputs": [],
   "source": []
  },
  {
   "cell_type": "code",
   "execution_count": 190,
   "metadata": {},
   "outputs": [
    {
     "data": {
      "image/png": "[encoded data removed]",
      "text/plain": [
       "<Figure size 432x288 with 10 Axes>"
      ]
     },
     "metadata": {
      "needs_background": "light"
     },
     "output_type": "display_data"
    }
   ],
   "source": []
  },
  {
   "cell_type": "code",
   "execution_count": 169,
   "metadata": {},
   "outputs": [],
   "source": [
    "from sim.model import save_cell_for_prismatic"
   ]
  },
  {
   "cell_type": "code",
   "execution_count": 170,
   "metadata": {},
   "outputs": [],
   "source": [
    "save_cell_for_prismatic(surf, 'test')"
   ]
  },
  {
   "cell_type": "code",
   "execution_count": 174,
   "metadata": {},
   "outputs": [],
   "source": [
    "view(surf)"
   ]
  },
  {
   "cell_type": "code",
   "execution_count": 134,
   "metadata": {},
   "outputs": [],
   "source": [
    "cell = bulk('Cu', 'fcc',cubic=True)\n",
    "surf = surface(cell, (1,1,1), 3, vacuum=0, periodic=True)\n",
    "bulk = surf.repeat(3)\n",
    "bulk.write('bulk.cif')\n",
    "view(bulk)"
   ]
  },
  {
   "cell_type": "code",
   "execution_count": null,
   "metadata": {},
   "outputs": [],
   "source": [
    "view(surf)"
   ]
  },
  {
   "cell_type": "code",
   "execution_count": 165,
   "metadata": {},
   "outputs": [],
   "source": [
    "cell = read('Mg2Si_For_Phuong.cif')\n",
    "surf = surface(cell, (1,1,1), 1, vacuum=0, periodic=True)\n",
    "#cell.rotate((0,0,1), (1,1,1), rotate_cell=True)\n",
    "view(surf)"
   ]
  },
  {
   "cell_type": "code",
   "execution_count": 154,
   "metadata": {},
   "outputs": [
    {
     "name": "stdout",
     "output_type": "stream",
     "text": [
      "0.cif\n",
      "1.cif\n",
      "2.cif\n",
      "3.cif\n",
      "4.cif\n"
     ]
    }
   ],
   "source": [
    "cell = bulk('Cu', 'fcc',cubic=True)\n",
    "for layers in range(5):\n",
    "    surf = surface(cell, (1,1,1), layers, vacuum=0)\n",
    "    surf.write(str(layers) + '.cif')\n",
    "    print(str(layers) + '.cif')\n",
    "    view(surf)\n",
    "#large = surf.repeat(3)\n"
   ]
  },
  {
   "cell_type": "code",
   "execution_count": 126,
   "metadata": {},
   "outputs": [],
   "source": [
    "a = surface(cell, (1,1,1), 3, vacuum=0, periodic=True)"
   ]
  },
  {
   "cell_type": "code",
   "execution_count": 127,
   "metadata": {},
   "outputs": [],
   "source": [
    "from ase.build import niggli_reduce"
   ]
  },
  {
   "cell_type": "code",
   "execution_count": 128,
   "metadata": {},
   "outputs": [],
   "source": [
    "niggli_reduce(a)"
   ]
  },
  {
   "cell_type": "code",
   "execution_count": 131,
   "metadata": {},
   "outputs": [],
   "source": [
    "view(a.repeat(3))"
   ]
  },
  {
   "cell_type": "code",
   "execution_count": 105,
   "metadata": {},
   "outputs": [
    {
     "data": {
      "text/plain": [
       "Atoms(symbols='Cu', pbc=[True, True, False], cell=[2.2627416997969525, 2.2627416997969525, 0.0], tags=...)"
      ]
     },
     "execution_count": 105,
     "metadata": {},
     "output_type": "execute_result"
    }
   ],
   "source": [
    "atoms"
   ]
  },
  {
   "cell_type": "code",
   "execution_count": 33,
   "metadata": {},
   "outputs": [],
   "source": [
    "view(surface(cell, (1,1,1), 1, vacuum=0, periodic=True).repeat(3))"
   ]
  },
  {
   "cell_type": "code",
   "execution_count": 44,
   "metadata": {},
   "outputs": [],
   "source": [
    "view(surface(\"Si\", (1,1,1), 3, vacuum=0, periodic=True).repeat(2))"
   ]
  },
  {
   "cell_type": "code",
   "execution_count": 41,
   "metadata": {},
   "outputs": [],
   "source": [
    "view(surface(cell, (1,1,1), 2, vacuum=0, periodic=True).repeat(2))"
   ]
  },
  {
   "cell_type": "code",
   "execution_count": 91,
   "metadata": {},
   "outputs": [],
   "source": [
    "cell = bulk('Cu', 'fcc',cubic=True)\n",
    "cell.write('testcell.cif')"
   ]
  },
  {
   "cell_type": "code",
   "execution_count": 106,
   "metadata": {},
   "outputs": [],
   "source": [
    "\n",
    "from ase.build import fcc100\n",
    "\n",
    "atoms = fcc100(symbol='Cu', size=(1, 1, 1),\n",
    "    a=3.2, vacuum=None, orthogonal=True).repeat((4,4,1))"
   ]
  },
  {
   "cell_type": "code",
   "execution_count": 107,
   "metadata": {},
   "outputs": [],
   "source": [
    "view(atoms)"
   ]
  },
  {
   "cell_type": "code",
   "execution_count": 155,
   "metadata": {},
   "outputs": [],
   "source": [
    "from ase.build import bulk\n",
    "cell = bulk('Cu', 'fcc',cubic=True)\n",
    "surf = surface(cell, (1,1,1), 3,).repeat((3,3,1))\n",
    "view(surf)\n",
    "\n",
    "cell2 = bulk('Cu', 'fcc', cubic=True)\n",
    "cell2 = cell2.repeat(3)\n",
    "cell2.rotate((1,1,1), (0,0,1),)\n",
    "view(cell2)\n"
   ]
  },
  {
   "cell_type": "code",
   "execution_count": 120,
   "metadata": {},
   "outputs": [
    {
     "data": {
      "text/plain": [
       "Atoms(symbols='Cu36', pbc=[True, True, False], cell=[[15.31593288050062, 0.0, 0.0], [7.657966440250309, 13.26398695717091, 0.0], [0.0, 0.0, 0.0]])"
      ]
     },
     "execution_count": 120,
     "metadata": {},
     "output_type": "execute_result"
    }
   ],
   "source": [
    "surf"
   ]
  },
  {
   "cell_type": "code",
   "execution_count": 123,
   "metadata": {},
   "outputs": [],
   "source": [
    "surf = surface(cell, (1,1,1), 1, periodic=True)\n",
    "surf\n",
    "view(surf)"
   ]
  },
  {
   "cell_type": "code",
   "execution_count": 110,
   "metadata": {},
   "outputs": [],
   "source": [
    "surf.write('surf.cif')\n",
    "cell2.write('cell2.cif')"
   ]
  },
  {
   "cell_type": "code",
   "execution_count": 73,
   "metadata": {},
   "outputs": [],
   "source": [
    "\n",
    "view(cell.repeat(3))"
   ]
  }
 ],
 "metadata": {
  "kernelspec": {
   "display_name": "Python 3",
   "language": "python",
   "name": "python3"
  },
  "language_info": {
   "codemirror_mode": {
    "name": "ipython",
    "version": 3
   },
   "file_extension": ".py",
   "mimetype": "text/x-python",
   "name": "python",
   "nbconvert_exporter": "python",
   "pygments_lexer": "ipython3",
   "version": "3.7.9"
  }
 },
 "nbformat": 4,
 "nbformat_minor": 4
}

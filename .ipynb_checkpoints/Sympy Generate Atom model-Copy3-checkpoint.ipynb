{
 "cells": [
  {
   "cell_type": "code",
   "execution_count": 4,
   "metadata": {},
   "outputs": [],
   "source": [
    "from ase.build import nanotube\n",
    "from ase.visualize import view\n",
    "#cnt = nanotube(6, 0, length=4)\n",
    "#cnt.rotate([1,0,0], [0,0,1])\n",
    "import sympy as sp\n",
    "import numpy as np\n",
    "import matplotlib.pyplot as plt\n",
    "import cupy as cp"
   ]
  },
  {
   "cell_type": "code",
   "execution_count": 152,
   "metadata": {},
   "outputs": [],
   "source": [
    "def Gaussian2D(x, y, A, xc, yc, sigma):\n",
    "    return A*np.exp(\n",
    "        -(\n",
    "            (x-xc)**2 + \n",
    "            (y-yc)**2\n",
    "        )/(2*sigma**2))\n",
    "\n",
    "def Gaussian2DCupy(x, y, A, xc, yc, sigma):\n",
    "    return A*cp.exp(\n",
    "        -(\n",
    "            (x-xc)**2 + \n",
    "            (y-yc)**2\n",
    "        )/(2*sigma**2))\n",
    "\n",
    "def SympyGaussian2D(x, y, A, xc, yc, sigma):\n",
    "    return A*sp.exp(\n",
    "        -(\n",
    "            (x-xc)**2 + \n",
    "            (y-yc)**2\n",
    "        )/(2*sigma**2))\n",
    "\n",
    "def rotation_matrix(deg):\n",
    "    c = np.cos(np.deg2rad(deg))\n",
    "    s = np.sin(np.deg2rad(deg))\n",
    "    return np.array([[c, -s],[s, c]])\n",
    "\n",
    "def rotation_matrix_cupy(deg):\n",
    "    c = cp.cos(cp.deg2rad(deg))\n",
    "    s = cp.sin(cp.deg2rad(deg))\n",
    "    return np.array([[c, -s],[s, c]])\n",
    "\n",
    "def meshgridCupy(x, y):\n",
    "    X = np.tile(x[:, None], len(y)).T\n",
    "    Y = np.tile(y[:, None], len(x))\n",
    "\n",
    "def ac_noise(shape, strength=0.5, dwelltime=1e-6):\n",
    "    ac_freq = 50 #hz\n",
    "    noise = np.zeros((2,) + shape)\n",
    "    noise[0] = strength * np.sin(\n",
    "        2*dwelltime / (1/ac_freq) * np.arange(np.prod(shape)) * np.pi\n",
    "    ).reshape(shape)\n",
    "    return noise\n",
    "    \n",
    "class ImageModel:\n",
    "    margin = 3\n",
    "    power = 1.8\n",
    "\n",
    "    def __init__(\n",
    "        self, \n",
    "        atoms=None, positions=None, numbers=None,\n",
    "        pixel_size=0.1, sigma=0.2, power=1.8, scan_rotation = 0, square = False):\n",
    "        if atoms:\n",
    "            self.atom_positions = atoms.positions[:,:2]\n",
    "            self.atom_numbers = atoms.numbers\n",
    "        else:\n",
    "            self.atom_positions = positions\n",
    "            self.atom_numbers = numbers\n",
    "        self.number_of_atoms = len(self.atom_numbers)\n",
    "        self.pixel_size = pixel_size\n",
    "        self.sigma = sigma\n",
    "        self.scan_rotation = scan_rotation\n",
    "        self.square = square\n",
    "        \n",
    "        self.create_probe_positions()\n",
    "        self.create_probe_positions_cupy()\n",
    "        self.create_parameters()\n",
    "        self.create_parameters_cupy()\n",
    "        \n",
    "    def init_sympy(self):\n",
    "        xy = sp.symbols('x y')\n",
    "        parameters = sp.symbols('A xc yc sigma', cls=sp.IndexedBase)\n",
    "        i,n = sp.symbols(\"i n\", integer=True)\n",
    "        self.symbols = xy + parameters + (n,)\n",
    "        A, xc, yc, sigma = parameters\n",
    "        \n",
    "        Gauss = SympyGaussian2D(*xy, A[i], xc[i], yc[i], sigma[i])\n",
    "        model = sp.Sum(Gauss, (i,0,n-1))\n",
    "        self.model = model\n",
    "\n",
    "    def create_probe_positions(self):\n",
    "        xlow, ylow = self.atom_positions.min(0) - self.margin\n",
    "        xhigh, yhigh = self.atom_positions.max(0) + self.margin\n",
    "        scale = (xhigh - xlow)/100\n",
    "\n",
    "        if self.square:\n",
    "            xlow = ylow = min(xlow, ylow)\n",
    "            xhigh = yhigh = max(xhigh, yhigh)\n",
    "        xrange = np.arange(xlow, xhigh+scale, self.pixel_size)\n",
    "        yrange = np.arange(ylow, yhigh+scale, self.pixel_size)\n",
    "        XY = np.stack(np.meshgrid(xrange, yrange))\n",
    "        \n",
    "        if self.scan_rotation:\n",
    "            mean = XY.mean(axis=(-1,-2))[:, None]\n",
    "            self.probe_positions = (\n",
    "                rotation_matrix(angle) @ (\n",
    "                    XY.reshape((2, -1)) - mean) + mean\n",
    "            ).reshape((2, *XY.shape[1:]))\n",
    "        else:\n",
    "            self.probe_positions = XY\n",
    "    \n",
    "    def create_probe_positions_cupy(self):\n",
    "        xlow, ylow = self.atom_positions.min(0) - self.margin\n",
    "        xhigh, yhigh = self.atom_positions.max(0) + self.margin\n",
    "        scale = (xhigh - xlow)/100\n",
    "\n",
    "        if self.square:\n",
    "            xlow = ylow = min(xlow, ylow)\n",
    "            xhigh = yhigh = max(xhigh, yhigh)\n",
    "        xrange = cp.arange(xlow, xhigh+scale, self.pixel_size)\n",
    "        yrange = cp.arange(ylow, yhigh+scale, self.pixel_size)\n",
    "        XY = cp.stack(cp.meshgrid(xrange, yrange))\n",
    "        \n",
    "        if self.scan_rotation:\n",
    "            mean = XY.mean(axis=(-1,-2))[:, None]\n",
    "            self.probe_positions_cupy = (\n",
    "                rotation_matrix_cupy(angle) @ (\n",
    "                    XY.reshape((2, -1)) - mean) + mean\n",
    "            ).reshape((2, *XY.shape[1:]))\n",
    "        else:\n",
    "            self.probe_positions_cupy = XY\n",
    "    \n",
    "    def create_parameters(self):\n",
    "        xc, yc = self.atom_positions.T\n",
    "        A = self.atom_numbers ** self.power\n",
    "        sigma = np.ones(self.number_of_atoms) * self.sigma\n",
    "        self.parameters = np.array([A, xc, yc, sigma])\n",
    "        \n",
    "    def create_parameters_cupy(self):\n",
    "        self.parameters_cupy = cp.array(self.parameters)\n",
    "        \n",
    "    def generate_lambdify(self):\n",
    "        self.init_sympy()\n",
    "        func = sp.lambdify(self.symbols, self.model, modules = 'numpy')\n",
    "        self.func = func\n",
    "        return func(*self.probe_positions, *self.parameters, self.number_of_atoms)\n",
    "    \n",
    "    def generate_lambdify_cupy(self):\n",
    "        self.init_sympy()\n",
    "        func = sp.lambdify(self.symbols, self.model, modules = 'cupy')\n",
    "        self.func_cupy = func\n",
    "        return func(*self.probe_positions_cupy, *self.parameters_cupy, self.number_of_atoms)\n",
    "    \n",
    "    def generate_cupy(self):\n",
    "        X, Y = self.probe_positions_cupy\n",
    "        img = cp.zeros(X.shape)\n",
    "        #As, XC, YC, SIGMA = self.parameters_cupy\n",
    "        for parameters in self.parameters_cupy.T:\n",
    "            gauss = Gaussian2DCupy(X, Y, *parameters)\n",
    "            img += gauss\n",
    "        return img\n",
    " \n",
    "    def generate_cupy_ram(self):\n",
    "        X, Y = self.probe_positions_cupy\n",
    "        img = cp.sum(Gaussian2DCupy(X[..., None], Y[..., None], *self.parameters_cupy), -1)\n",
    "        return img\n",
    "    \n",
    "    def generate_numpy(self):\n",
    "        img = np.zeros(self.probe_positions[0].shape)\n",
    "        for parameters in self.parameters.T:\n",
    "            gauss = Gaussian2D(*self.probe_positions, *parameters)\n",
    "            img += gauss\n",
    "        return img\n",
    "    \n",
    "    def generate_numpy_ram(self):\n",
    "        X, Y = self.probe_positions\n",
    "        img = np.zeros(X.shape)\n",
    "        img = np.sum(Gaussian2D(X[..., None], Y[..., None], *self.parameters), -1)\n",
    "        return img\n",
    "    \n",
    "    def generate_crop(self):\n",
    "        X, Y = self.probe_positions\n",
    "        img = np.zeros(X.shape)\n",
    "        _, xc, yc, _ = self.parameters\n",
    "        radius = 5 * self.sigma\n",
    "        masks = np.logical_and.reduce(\n",
    "            (X[..., None] > xc - radius, \n",
    "             X[..., None] < xc + radius, \n",
    "             Y[..., None] > yc - radius, \n",
    "             Y[..., None] < yc + radius))\n",
    "        masks = masks.swapaxes(-2, -1).swapaxes(-2, -3)\n",
    "        img = np.zeros(X.shape)\n",
    "        for mask, parameters in zip(masks, self.parameters.T):\n",
    "            gauss = Gaussian2D(X[mask], Y[mask], *parameters)\n",
    "            img[mask] += gauss\n",
    "        return img\n",
    "    \n",
    "    def generate_crop_cupy(self):\n",
    "        X, Y = self.probe_positions_cupy\n",
    "        img = cp.zeros(X.shape)\n",
    "        radius = 5 * self.sigma\n",
    "        _, xc, yc, _ = self.parameters_cupy\n",
    "        maskx = cp.logical_and(\n",
    "            X[..., None] > xc - radius, \n",
    "            X[..., None] < xc + radius)\n",
    "        masky = cp.logical_and(\n",
    "            Y[..., None] > yc - radius, \n",
    "            Y[..., None] < yc + radius)     \n",
    "        \n",
    "        masks = cp.logical_and(maskx, masky)\n",
    "        masks = masks.swapaxes(-2, -1).swapaxes(-2, -3)\n",
    "        img = cp.zeros(X.shape)\n",
    "        for mask, parameters in zip(masks, self.parameters_cupy.T):\n",
    "            gauss = Gaussian2D(X[mask], Y[mask], *parameters)\n",
    "            img[mask] += gauss\n",
    "        return img\n",
    "\n",
    "    def generate_crop_cupy2(self):\n",
    "        X, Y = self.probe_positions_cupy\n",
    "        img = cp.zeros(X.shape)\n",
    "        radius = 5 * self.sigma\n",
    "        img = cp.zeros(X.shape)\n",
    "        for parameters in self.parameters_cupy.T:\n",
    "            _, xc, yc, _ = parameters\n",
    "            maskx = cp.logical_and(\n",
    "                X > xc - radius,\n",
    "                X < xc + radius)\n",
    "            masky = cp.logical_and(\n",
    "                Y > yc - radius,\n",
    "                Y < yc + radius)\n",
    "            mask = cp.logical_and(maskx, masky)\n",
    "            gauss = Gaussian2D(X[mask], Y[mask], *parameters)\n",
    "            img[mask] += gauss\n",
    "        return img"
   ]
  },
  {
   "cell_type": "code",
   "execution_count": 153,
   "metadata": {},
   "outputs": [
    {
     "name": "stdout",
     "output_type": "stream",
     "text": [
      "[-9.20301216 -1.70043497 -1.70626273]\n",
      "[9.20301216 1.70043497 1.70626273]\n"
     ]
    }
   ],
   "source": [
    "atoms = nanotube(2, 3, length=1)\n",
    "atoms.rotate((1,0,0), (0,0,1), rotate_cell=True)\n",
    "atoms.center(about=0.)\n",
    "print(atoms.positions.min(0))\n",
    "print(atoms.positions.max(0))"
   ]
  },
  {
   "cell_type": "code",
   "execution_count": 154,
   "metadata": {},
   "outputs": [],
   "source": [
    "from ase.build import make_supercell"
   ]
  },
  {
   "cell_type": "code",
   "execution_count": 155,
   "metadata": {},
   "outputs": [],
   "source": [
    "atoms = read(r\"C:\\Users\\thomasaar\\Downloads\\imeall-master\\imeall\\examples\\boundary_interstitials\\0013687130_v6bxv2_tv0.1bxv0.0_d1.8z_traj.xyz\")"
   ]
  },
  {
   "cell_type": "code",
   "execution_count": 146,
   "metadata": {},
   "outputs": [],
   "source": [
    "from ase.io import read\n",
    "atoms = read(r\"C:\\Users\\thomasaar\\Downloads\\imeall-master\\imeall\\examples\\boundary_interstitials\\0013687130_v6bxv2_tv0.1bxv0.0_d1.8z_traj.xyz\")\n",
    "atoms = make_supercell(atoms, np.diag((1,2,1)))\n",
    "mask = atoms.positions[:,2] > 35\n",
    "del atoms[mask]\n",
    "\n",
    "atoms[1716].number = 60\n",
    "atoms.rotate((1,0,0), (0,0,1), rotate_cell=True)\n",
    "atoms.center(about=0.)\n",
    "\n",
    "m = ImageModel(atoms, sigma=0.4)\n",
    "\n",
    "drift_vector = np.array([1,0])\n",
    "scale = 0.0001\n",
    "probe_indices = np.arange(np.prod(m.probe_positions.shape[1:])).reshape(m.probe_positions.shape[1:])\n",
    "drift = (scale * drift_vector * probe_indices.T[..., None]).T\n",
    "\n",
    "random_noise = (2*cp.random.random(m.probe_positions_cupy.shape)-1) * 0.1\n",
    "\n",
    "line_noise = cp.zeros(m.probe_positions.shape)\n",
    "line_noise[0] += 0.3*(2*cp.random.random((m.probe_positions.shape[1])) - 1)[:, None]\n",
    "\n",
    "m.probe_positions_cupy += cp.array(\n",
    "    ac_noise(\n",
    "        m.probe_positions.shape[1:],\n",
    "    ))#line_noise #cp.asarray(drift)# + noise\n",
    "\n",
    "img = cp.asnumpy(m.generate_lambdify_cupy())\n"
   ]
  },
  {
   "cell_type": "code",
   "execution_count": 138,
   "metadata": {},
   "outputs": [],
   "source": [
    "%matplotlib widget"
   ]
  },
  {
   "cell_type": "code",
   "execution_count": 139,
   "metadata": {},
   "outputs": [
    {
     "data": {
      "application/vnd.jupyter.widget-view+json": {
       "model_id": "a213f9b2517a489a8a25340ce411c73a",
       "version_major": 2,
       "version_minor": 0
      },
      "text/plain": [
       "Canvas(toolbar=Toolbar(toolitems=[('Home', 'Reset original view', 'home', 'home'), ('Back', 'Back to previous …"
      ]
     },
     "metadata": {},
     "output_type": "display_data"
    }
   ],
   "source": [
    "plt.figure(figsize=(8,5))\n",
    "plt.imshow(img);\n",
    "plt.tight_layout()"
   ]
  },
  {
   "cell_type": "code",
   "execution_count": 64,
   "metadata": {},
   "outputs": [
    {
     "data": {
      "text/plain": [
       "(97, 247)"
      ]
     },
     "execution_count": 64,
     "metadata": {},
     "output_type": "execute_result"
    }
   ],
   "source": [
    "img.shape"
   ]
  },
  {
   "cell_type": "code",
   "execution_count": null,
   "metadata": {},
   "outputs": [],
   "source": [
    "# img1 = m.generate_cupy()\n",
    "# img2 = m.generate_cupy_ram()\n",
    "# img3 = m.generate_numpy()\n",
    "# img4 = m.generate_numpy_ram()\n",
    "# img5 = m.generate_lambdify()\n",
    "# img6 = m.generate_lambdify_cupy()\n",
    "# img7 = m.generate_crop()\n",
    "# img8 = m.generate_crop_cupy()\n",
    "\n",
    "# imgs = [cp.asnumpy(img1), cp.asnumpy(img2), img3, img4, img5, cp.asnumpy(img6), img7, cp.asnumpy(img8), ]"
   ]
  },
  {
   "cell_type": "code",
   "execution_count": 14,
   "metadata": {},
   "outputs": [],
   "source": [
    "atoms = nanotube(5, 3, length=4)\n",
    "atoms.rotate((1,0,0), (0,0,1), rotate_cell=True)\n",
    "atoms.center(about=0.)\n",
    "\n",
    "m = ImageModel(atoms, pixel_size=0.1)\n"
   ]
  },
  {
   "cell_type": "code",
   "execution_count": 15,
   "metadata": {},
   "outputs": [
    {
     "name": "stdout",
     "output_type": "stream",
     "text": [
      "Wall time: 138 ms\n",
      "Wall time: 1 ms\n"
     ]
    }
   ],
   "source": [
    "%time img1 = m.generate_cupy()\n",
    "%time img2 = m.generate_cupy_ram()"
   ]
  },
  {
   "cell_type": "code",
   "execution_count": null,
   "metadata": {},
   "outputs": [],
   "source": [
    "1"
   ]
  },
  {
   "cell_type": "code",
   "execution_count": 19,
   "metadata": {},
   "outputs": [
    {
     "data": {
      "text/plain": [
       "1"
      ]
     },
     "execution_count": 19,
     "metadata": {},
     "output_type": "execute_result"
    }
   ],
   "source": [
    "1"
   ]
  },
  {
   "cell_type": "code",
   "execution_count": 18,
   "metadata": {},
   "outputs": [],
   "source": [
    "#%timeit img2 = m.generate_cupy_ram()"
   ]
  },
  {
   "cell_type": "code",
   "execution_count": 11,
   "metadata": {},
   "outputs": [
    {
     "name": "stdout",
     "output_type": "stream",
     "text": [
      "Wall time: 134 ms\n",
      "Wall time: 0 ns\n"
     ]
    }
   ],
   "source": [
    "%time img1 = m.generate_cupy()\n",
    "%time img2 = m.generate_cupy_ram()"
   ]
  },
  {
   "cell_type": "code",
   "execution_count": 9,
   "metadata": {},
   "outputs": [
    {
     "name": "stdout",
     "output_type": "stream",
     "text": [
      "Wall time: 130 ms\n",
      "Wall time: 0 ns\n",
      "Wall time: 5.89 s\n",
      "Wall time: 6.71 s\n",
      "Wall time: 6.46 s\n",
      "Wall time: 171 ms\n",
      "Wall time: 6.18 s\n",
      "Wall time: 874 ms\n",
      "Wall time: 675 ms\n"
     ]
    }
   ],
   "source": [
    "%time img1 = m.generate_cupy()\n",
    "%time img2 = m.generate_cupy_ram()\n",
    "\n",
    "%time img3 = m.generate_numpy()\n",
    "%time img4 = m.generate_numpy_ram()\n",
    "\n",
    "%time img5 = m.generate_lambdify()\n",
    "%time img6 = m.generate_lambdify_cupy()\n",
    "\n",
    "%time img7 = m.generate_crop()\n",
    "%time img8 = m.generate_crop_cupy()\n",
    "\n",
    "%time img9 = m.generate_crop_cupy2()"
   ]
  },
  {
   "cell_type": "code",
   "execution_count": null,
   "metadata": {},
   "outputs": [],
   "source": []
  },
  {
   "cell_type": "code",
   "execution_count": null,
   "metadata": {},
   "outputs": [],
   "source": [
    "probe_positions_shape = np.shape(m.probe_positions)\n",
    "noise = (2*np.random.random(probe_positions_shape)-1) * 0.1\n",
    "\n"
   ]
  },
  {
   "cell_type": "code",
   "execution_count": null,
   "metadata": {},
   "outputs": [],
   "source": []
  },
  {
   "cell_type": "code",
   "execution_count": null,
   "metadata": {},
   "outputs": [],
   "source": [
    "%time img7 = m.generate_crop()\n"
   ]
  },
  {
   "cell_type": "code",
   "execution_count": null,
   "metadata": {},
   "outputs": [],
   "source": []
  },
  {
   "cell_type": "code",
   "execution_count": null,
   "metadata": {},
   "outputs": [],
   "source": [
    "# #%time img1 = m.generate_cupy()\n",
    "# #%time img2 = m.generate_cupy_ram()\n",
    "\n",
    "# %time img3 = m.generate_numpy()\n",
    "# %time img4 = m.generate_numpy_ram()\n",
    "\n",
    "# %time img5 = m.generate_lambdify()\n",
    "# %time img6 = m.generate_lambdify_cupy()\n",
    "\n",
    "# %time img7 = m.generate_crop()\n",
    "# %time img8 = m.generate_crop_cupy()"
   ]
  },
  {
   "cell_type": "code",
   "execution_count": null,
   "metadata": {},
   "outputs": [],
   "source": [
    "fig, AX = plt.subplots(nrows=len(imgs))\n",
    "for i, ax in enumerate(AX):\n",
    "    ax.imshow(imgs[i])"
   ]
  },
  {
   "cell_type": "code",
   "execution_count": null,
   "metadata": {},
   "outputs": [],
   "source": [
    "type(img6)"
   ]
  },
  {
   "cell_type": "code",
   "execution_count": null,
   "metadata": {},
   "outputs": [],
   "source": [
    "m.parameters[3]"
   ]
  },
  {
   "cell_type": "code",
   "execution_count": null,
   "metadata": {},
   "outputs": [],
   "source": []
  },
  {
   "cell_type": "code",
   "execution_count": null,
   "metadata": {},
   "outputs": [],
   "source": []
  },
  {
   "cell_type": "code",
   "execution_count": null,
   "metadata": {},
   "outputs": [],
   "source": [
    "for img in imgs[1:]:\n",
    "    print(np.abs(img - imgs[0]).sum())"
   ]
  },
  {
   "cell_type": "code",
   "execution_count": null,
   "metadata": {},
   "outputs": [],
   "source": [
    "%matplotlib widget"
   ]
  },
  {
   "cell_type": "code",
   "execution_count": null,
   "metadata": {},
   "outputs": [],
   "source": []
  },
  {
   "cell_type": "code",
   "execution_count": null,
   "metadata": {},
   "outputs": [],
   "source": [
    "pixel_size = 0.1\n",
    "scan_rotation = 0\n",
    "square = True\n",
    "\n",
    "xlow, ylow, zlow = atoms.positions.min(0) - 3\n",
    "xhigh, yhigh, zhigh = atoms.positions.max(0) + 3\n",
    "scale = (xhigh - xlow)/100\n",
    "\n",
    "if square:\n",
    "    xlow = ylow = min(xlow, ylow)\n",
    "    xhigh = yhigh = max(xhigh, yhigh)\n",
    "xrange = np.arange(xlow, xhigh+scale, pixel_size)\n",
    "yrange = np.arange(ylow, yhigh+scale, pixel_size)\n",
    "X, Y = np.meshgrid(xrange, yrange)\n",
    "mean = np.array([X.mean(), Y.mean()])[:, None]\n",
    "X, Y = (\n",
    "    rotation_matrix(scan_rotation) @ (\n",
    "        np.array([X.flatten(), Y.flatten()]) - mean \n",
    "    ) + mean).reshape((2, *X.shape))\n",
    "\n"
   ]
  },
  {
   "cell_type": "code",
   "execution_count": null,
   "metadata": {},
   "outputs": [],
   "source": [
    "m = ImageModel(atoms, 0.01)\n",
    "img = m.generate_cupy()"
   ]
  },
  {
   "cell_type": "code",
   "execution_count": null,
   "metadata": {},
   "outputs": [],
   "source": [
    "from PIL import Image\n",
    "im = Image.fromarray(img.astype(\"uint16\"))\n",
    "im.save(f'nanotube.tif')"
   ]
  },
  {
   "cell_type": "code",
   "execution_count": null,
   "metadata": {},
   "outputs": [],
   "source": [
    "plt.figure(figsize = (20,5))\n",
    "plt.imshow(img)"
   ]
  },
  {
   "cell_type": "code",
   "execution_count": null,
   "metadata": {},
   "outputs": [],
   "source": []
  },
  {
   "cell_type": "code",
   "execution_count": null,
   "metadata": {},
   "outputs": [],
   "source": [
    "@jit(nopython=True, parallel=True)\n",
    "def numpyloop(X, Y, numbers, positions):\n",
    "    img = np.zeros(X.shape)\n",
    "    for number, position in zip(numbers, positions):\n",
    "        gauss = Gaussian2D(X, Y, 5, position[0], position[1], 0.2)\n",
    "        img += gauss"
   ]
  },
  {
   "cell_type": "code",
   "execution_count": null,
   "metadata": {},
   "outputs": [],
   "source": [
    "%%timeit\n",
    "numpyloop(X, Y, atoms.numbers, atoms.positions)"
   ]
  },
  {
   "cell_type": "code",
   "execution_count": null,
   "metadata": {},
   "outputs": [],
   "source": [
    "def cupyloop(atoms):\n",
    "    img = cp.zeros(X.shape)\n",
    "    for number, position in zip(atoms.numbers, atoms.positions):\n",
    "        gauss = Gaussian2DCupy(X, Y, number**1.8, position[0], position[1], 0.2)\n",
    "        img += gauss\n",
    "    return cp.asnumpy(img)"
   ]
  },
  {
   "cell_type": "code",
   "execution_count": null,
   "metadata": {},
   "outputs": [],
   "source": [
    "X2 = cp.array(X)\n",
    "Y2 = cp.array(Y)\n",
    "numbers, positions = cp.array(atoms.numbers), cp.array(atoms.positions)\n"
   ]
  },
  {
   "cell_type": "code",
   "execution_count": null,
   "metadata": {},
   "outputs": [],
   "source": [
    "%%time\n",
    "img = cupyloop(X2, Y2, numbers, positions)"
   ]
  },
  {
   "cell_type": "code",
   "execution_count": null,
   "metadata": {},
   "outputs": [],
   "source": [
    "img.shape"
   ]
  },
  {
   "cell_type": "code",
   "execution_count": null,
   "metadata": {},
   "outputs": [],
   "source": [
    "plt.figure()\n",
    "plt.imshow(img)"
   ]
  },
  {
   "cell_type": "code",
   "execution_count": null,
   "metadata": {},
   "outputs": [],
   "source": []
  },
  {
   "cell_type": "code",
   "execution_count": null,
   "metadata": {},
   "outputs": [],
   "source": [
    "m = ImageModel(atoms, 0.1, 0, True)"
   ]
  },
  {
   "cell_type": "code",
   "execution_count": null,
   "metadata": {},
   "outputs": [],
   "source": [
    "img2 = m.generate()\n"
   ]
  },
  {
   "cell_type": "code",
   "execution_count": null,
   "metadata": {},
   "outputs": [],
   "source": [
    "from ase.build import stack, make_supercell\n",
    "a = make_supercell(atoms, np.diag([3,3,3]))"
   ]
  },
  {
   "cell_type": "code",
   "execution_count": null,
   "metadata": {},
   "outputs": [],
   "source": [
    "view(a)"
   ]
  },
  {
   "cell_type": "code",
   "execution_count": null,
   "metadata": {},
   "outputs": [],
   "source": [
    "plt.figure(figsize=(10,10))\n",
    "plt.imshow(img)"
   ]
  },
  {
   "cell_type": "code",
   "execution_count": null,
   "metadata": {},
   "outputs": [],
   "source": [
    "img /= img.max()\n",
    "img *= 200 \n",
    "img += np.random.poisson(img)\n",
    "plt.figure()\n",
    "plt.imshow(img)\n",
    "im = Image.fromarray(img.astype(\"uint16\"))\n",
    "im.save(f'grains.tif')"
   ]
  },
  {
   "cell_type": "code",
   "execution_count": null,
   "metadata": {},
   "outputs": [],
   "source": [
    "for i, rot in (enumerate([0, 90, 180, 270])):\n",
    "    m.scan_rotation = rot\n",
    "    img = m.generate()\n",
    "    #img = np.rot90(img, i, (1,0))\n",
    "    img /= img.max()\n",
    "    img *= 200 \n",
    "    img += np.random.poisson(img)\n",
    "    plt.figure()\n",
    "    plt.imshow(img)\n",
    "    im = Image.fromarray(img.astype(\"uint16\"))\n",
    "    im.save(f'Rot2_{i}.tif')"
   ]
  },
  {
   "cell_type": "code",
   "execution_count": null,
   "metadata": {},
   "outputs": [],
   "source": [
    "from PIL import Image"
   ]
  },
  {
   "cell_type": "code",
   "execution_count": null,
   "metadata": {},
   "outputs": [],
   "source": []
  },
  {
   "cell_type": "code",
   "execution_count": null,
   "metadata": {},
   "outputs": [],
   "source": [
    "plt.figure()\n",
    "\n",
    "plt.imshow(img)\n"
   ]
  },
  {
   "cell_type": "code",
   "execution_count": null,
   "metadata": {},
   "outputs": [],
   "source": [
    "\n",
    "def rot(deg):\n",
    "    rm = rotation_matrix(deg)\n",
    "    x,y = m.positions()\n",
    "    return np.einsum('ji, mni -> jmn', rm, np.dstack([x, y]))"
   ]
  },
  {
   "cell_type": "code",
   "execution_count": null,
   "metadata": {},
   "outputs": [],
   "source": [
    "r = rot(20)"
   ]
  },
  {
   "cell_type": "code",
   "execution_count": null,
   "metadata": {},
   "outputs": [],
   "source": [
    "x,y = "
   ]
  },
  {
   "cell_type": "code",
   "execution_count": null,
   "metadata": {},
   "outputs": [],
   "source": [
    "plt.figure()\n",
    "x, y = m.positions()\n",
    "plt.scatter(x,y)\n",
    "\n",
    "\n",
    "mean = np.array([x.mean(), y.mean()])[:, None]\n",
    "print(mean)\n",
    "x, y = (rotation_matrix(20) @ (np.array([x.flatten(), y.flatten()]) - mean ) + mean).reshape((2, *x.shape))\n",
    "plt.scatter(x,y)\n",
    "\n",
    "#x, y = r\n",
    "#plt.scatter(x,y)"
   ]
  },
  {
   "cell_type": "code",
   "execution_count": null,
   "metadata": {},
   "outputs": [],
   "source": []
  },
  {
   "cell_type": "code",
   "execution_count": null,
   "metadata": {},
   "outputs": [],
   "source": [
    "pixel_size = 1\n",
    "xlow, ylow, zlow = atoms.positions.min(0) - 3\n",
    "xhigh, yhigh, zhigh = atoms.positions.max(0) + 3\n",
    "scale = (xhigh - xlow)/100\n",
    "\n",
    "xrange = np.arange(xlow, xhigh+pixel_size, pixel_size)\n",
    "yrange = np.arange(ylow, yhigh+pixel_size, pixel_size)"
   ]
  },
  {
   "cell_type": "code",
   "execution_count": null,
   "metadata": {},
   "outputs": [],
   "source": [
    "xrange"
   ]
  },
  {
   "cell_type": "code",
   "execution_count": null,
   "metadata": {},
   "outputs": [],
   "source": [
    "xrange = np.array([1,2,3,4])\n",
    "np.tile(xrange, 4)"
   ]
  },
  {
   "cell_type": "code",
   "execution_count": null,
   "metadata": {},
   "outputs": [],
   "source": [
    "xrange = np.random.random(500)\n",
    "yrange = np.random.random(300)"
   ]
  },
  {
   "cell_type": "code",
   "execution_count": null,
   "metadata": {},
   "outputs": [],
   "source": [
    "%%timeit\n",
    "\n"
   ]
  },
  {
   "cell_type": "code",
   "execution_count": null,
   "metadata": {},
   "outputs": [],
   "source": [
    "%%timeit\n",
    "X2, Y2 = np.meshgrid(xrange,yrange)"
   ]
  },
  {
   "cell_type": "code",
   "execution_count": null,
   "metadata": {},
   "outputs": [],
   "source": [
    "np.testing.assert_almost_equal(Y, Y2)"
   ]
  },
  {
   "cell_type": "code",
   "execution_count": null,
   "metadata": {},
   "outputs": [],
   "source": [
    "X.shape"
   ]
  },
  {
   "cell_type": "code",
   "execution_count": null,
   "metadata": {},
   "outputs": [],
   "source": [
    "Y.shape"
   ]
  },
  {
   "cell_type": "code",
   "execution_count": null,
   "metadata": {},
   "outputs": [],
   "source": [
    "X.shape"
   ]
  },
  {
   "cell_type": "code",
   "execution_count": null,
   "metadata": {},
   "outputs": [],
   "source": [
    "%%timeit\n",
    "x1, y1 = np.meshgrid(xrange, yrange)\n",
    "x1, y1 = x1.flatten(), y1.flatten()"
   ]
  },
  {
   "cell_type": "code",
   "execution_count": null,
   "metadata": {},
   "outputs": [],
   "source": [
    "print(x1.flatten())\n",
    "print(y1.flatten())"
   ]
  },
  {
   "cell_type": "code",
   "execution_count": null,
   "metadata": {},
   "outputs": [],
   "source": []
  },
  {
   "cell_type": "code",
   "execution_count": null,
   "metadata": {},
   "outputs": [],
   "source": [
    "%%timeit\n",
    "x = xrange.copy()\n",
    "np.tile(x[:, None], 4).flatten()"
   ]
  },
  {
   "cell_type": "code",
   "execution_count": null,
   "metadata": {},
   "outputs": [],
   "source": [
    "x,y = m.positions()\n",
    "\n",
    "def func(deg, x, y):\n",
    "    x, y = (rotation_matrix(deg) @ np.array([x.flatten(), y.flatten()])).reshape((2, *x.shape))\n",
    "    return (x,y)\n",
    "\n",
    "def rot(deg, x, y):\n",
    "    rm = rotation_matrix(deg)\n",
    "    return np.einsum('ji, mni -> jmn', rm, np.dstack([x, y]))"
   ]
  },
  {
   "cell_type": "code",
   "execution_count": null,
   "metadata": {},
   "outputs": [],
   "source": [
    "%timeit func(20, x.copy(), y.copy())\n",
    "%timeit rot(20, x.copy(), y.copy())"
   ]
  },
  {
   "cell_type": "code",
   "execution_count": null,
   "metadata": {},
   "outputs": [],
   "source": [
    "def DoRotation(xspan, yspan, RotRad=0):\n",
    "    \"\"\"Generate a meshgrid and rotate it by RotRad radians.\"\"\"\n",
    "\n",
    "    # Clockwise, 2D rotation matrix\n",
    "    RotMatrix = np.array([[np.cos(RotRad),  np.sin(RotRad)],\n",
    "                          [-np.sin(RotRad), np.cos(RotRad)]])\n",
    "\n",
    "    x, y = np.meshgrid(xspan, yspan)\n",
    "    return np.einsum('ji, mni -> jmn', RotMatrix, np.dstack([x, y]))"
   ]
  },
  {
   "cell_type": "code",
   "execution_count": null,
   "metadata": {},
   "outputs": [],
   "source": []
  },
  {
   "cell_type": "code",
   "execution_count": null,
   "metadata": {},
   "outputs": [],
   "source": [
    "m = ImageModel(atoms)"
   ]
  },
  {
   "cell_type": "code",
   "execution_count": null,
   "metadata": {},
   "outputs": [],
   "source": [
    "img = m.generate()"
   ]
  },
  {
   "cell_type": "code",
   "execution_count": null,
   "metadata": {},
   "outputs": [],
   "source": [
    "plt.figure()\n",
    "plt.imshow(img)"
   ]
  },
  {
   "cell_type": "code",
   "execution_count": null,
   "metadata": {},
   "outputs": [],
   "source": []
  },
  {
   "cell_type": "code",
   "execution_count": null,
   "metadata": {},
   "outputs": [],
   "source": []
  },
  {
   "cell_type": "code",
   "execution_count": null,
   "metadata": {},
   "outputs": [],
   "source": []
  },
  {
   "cell_type": "code",
   "execution_count": null,
   "metadata": {},
   "outputs": [],
   "source": []
  },
  {
   "cell_type": "code",
   "execution_count": null,
   "metadata": {},
   "outputs": [],
   "source": [
    "rotation_matrix(20) @ (x, y)\n",
    "Z = np.array([X.flatten(), Y.flatten()])"
   ]
  },
  {
   "cell_type": "code",
   "execution_count": null,
   "metadata": {},
   "outputs": [],
   "source": [
    "Z2 = rotation_matrix(20) @ Z"
   ]
  },
  {
   "cell_type": "code",
   "execution_count": null,
   "metadata": {},
   "outputs": [],
   "source": [
    "X2, Y2 = Z2\n",
    "#X2 = X2.reshape(X.shape)\n",
    "#Y2 = Y2.reshape(X.shape)"
   ]
  },
  {
   "cell_type": "code",
   "execution_count": null,
   "metadata": {},
   "outputs": [],
   "source": [
    "plt.figure()\n",
    "plt.hist2d(X.flatten(), Y.flatten(), 100, range=((-10, 30), (-10, 30)))"
   ]
  },
  {
   "cell_type": "code",
   "execution_count": null,
   "metadata": {},
   "outputs": [],
   "source": [
    "plt.figure()\n",
    "plt.hist2d(X2, Y2, 100, range=((-10, 30), (-10, 30)))"
   ]
  },
  {
   "cell_type": "code",
   "execution_count": null,
   "metadata": {},
   "outputs": [],
   "source": [
    "plt.figure()\n",
    "plt.scatter(X, Y)\n",
    "plt.scatter(X2, Y2)\n",
    "plt.axis('equal')"
   ]
  },
  {
   "cell_type": "code",
   "execution_count": null,
   "metadata": {},
   "outputs": [],
   "source": [
    "model = ImageModel(cell)\n",
    "for scale in [0.12]:\n",
    "    model.pixel_size = scale\n",
    "    img = model.generate()\n",
    "    plt.figure()\n",
    "    plt.imshow(img)"
   ]
  },
  {
   "cell_type": "code",
   "execution_count": null,
   "metadata": {},
   "outputs": [],
   "source": [
    "import atomap.api as am"
   ]
  },
  {
   "cell_type": "code",
   "execution_count": null,
   "metadata": {},
   "outputs": [],
   "source": [
    "import hyperspy.api as hs"
   ]
  },
  {
   "cell_type": "code",
   "execution_count": null,
   "metadata": {},
   "outputs": [],
   "source": [
    "s = hs.signals.Signal2D(img)"
   ]
  },
  {
   "cell_type": "code",
   "execution_count": null,
   "metadata": {},
   "outputs": [],
   "source": [
    "s_peaks = am.get_feature_separation(s, separation_range=(2, 20))"
   ]
  },
  {
   "cell_type": "code",
   "execution_count": null,
   "metadata": {},
   "outputs": [],
   "source": [
    "s_peaks.plot()"
   ]
  },
  {
   "cell_type": "code",
   "execution_count": null,
   "metadata": {},
   "outputs": [],
   "source": [
    "atom_positions = am.get_atom_positions(s, separation=5)"
   ]
  },
  {
   "cell_type": "code",
   "execution_count": null,
   "metadata": {},
   "outputs": [],
   "source": [
    "sublattice = am.Sublattice(atom_positions, image=s.data)"
   ]
  },
  {
   "cell_type": "code",
   "execution_count": null,
   "metadata": {},
   "outputs": [],
   "source": [
    "import numpy as np\n",
    "np.array(data)"
   ]
  },
  {
   "cell_type": "code",
   "execution_count": null,
   "metadata": {},
   "outputs": [],
   "source": [
    "sublattice.find_nearest_neighbors()\n",
    "sublattice.refine_atom_positions_using_center_of_mass()\n",
    "sublattice.refine_atom_positions_using_2d_gaussian()"
   ]
  },
  {
   "cell_type": "code",
   "execution_count": null,
   "metadata": {},
   "outputs": [],
   "source": [
    " points_x, points_y = sublattice.atom_positions.T"
   ]
  },
  {
   "cell_type": "code",
   "execution_count": null,
   "metadata": {},
   "outputs": [],
   "source": [
    "from atomap.tools import remove_integrated_edge_cells\n",
    "\n",
    "integrated_intensity, intensity_record, point_record = am.integrate(s, points_x, points_y)\n",
    "ii, ir, pr = remove_integrated_edge_cells(integrated_intensity, intensity_record, point_record, edge_pixels=1)"
   ]
  },
  {
   "cell_type": "code",
   "execution_count": null,
   "metadata": {},
   "outputs": [],
   "source": []
  },
  {
   "cell_type": "code",
   "execution_count": null,
   "metadata": {},
   "outputs": [],
   "source": [
    "pr.plot()"
   ]
  },
  {
   "cell_type": "code",
   "execution_count": null,
   "metadata": {},
   "outputs": [],
   "source": [
    "def probe_positions(model, drift_vector, scale=None, scannoise=True, xlen=None, ylen=None, start: \"(x,y)\"=None):\n",
    "    if xlen == None or ylen == None:\n",
    "        xlen, ylen = m.axes_manager.signal_shape\n",
    "    if scale == None:\n",
    "        scale = s.axes_manager[-1].scale\n",
    "    if start == None:\n",
    "        start = [ax.offset for ax in m.axes_manager.signal_axes]\n",
    "    X = np.zeros((ylen, xlen))\n",
    "    Y = np.zeros((ylen, xlen))\n",
    "    \n",
    "    xdrift = 0\n",
    "    ydrift = 0\n",
    "\n",
    "    if scannoise == True:\n",
    "        xnoise = np.random.random() * 0.1\n",
    "    elif scannoise == False:\n",
    "        xnoise = 0\n",
    "    else:\n",
    "        xnoise = scannoise\n",
    "    \n",
    "    for yi in range(ylen):\n",
    "        xnoise = np.random.random() * 0.1 # flyback noise\n",
    "\n",
    "        for xi in range(xlen):\n",
    "            xdrift -= drift_vector[0]\n",
    "            ydrift -= drift_vector[1]\n",
    "\n",
    "            X[yi, xi] = xi*scale + start[0] + xdrift*scale + xnoise\n",
    "            Y[yi, xi] = yi*scale + start[1] + ydrift*scale\n",
    "    return X, Y\n"
   ]
  },
  {
   "cell_type": "code",
   "execution_count": null,
   "metadata": {},
   "outputs": [],
   "source": []
  },
  {
   "cell_type": "code",
   "execution_count": null,
   "metadata": {},
   "outputs": [],
   "source": []
  },
  {
   "cell_type": "code",
   "execution_count": null,
   "metadata": {},
   "outputs": [],
   "source": []
  },
  {
   "cell_type": "code",
   "execution_count": null,
   "metadata": {},
   "outputs": [],
   "source": [
    "x, y = sp.symbols('x y')\n",
    "\n",
    "def Gaussian2D(A, xc, yc, sigma):\n",
    "    return A*sp.exp(\n",
    "        -(\n",
    "            (x-xc)**2 + \n",
    "            (y-yc)**2\n",
    "        )/(2*sigma**2))\n",
    "\n",
    "parameters = []\n",
    "s = 0.3\n",
    "for atom in cell:\n",
    "    x0, y0, z0 = atom.position\n",
    "    A = atom.number**1.8\n",
    "    \n",
    "    parameters.append([A, x0, y0, s])\n",
    "model = sum([Gaussian2D(*symb) for symb in parameters])"
   ]
  },
  {
   "cell_type": "code",
   "execution_count": null,
   "metadata": {},
   "outputs": [],
   "source": [
    "import numpy as np\n",
    "xlow, ylow, zlow = cell.positions.min(0) - 3\n",
    "xhigh, yhigh, zhigh = cell.positions.max(0) + 3\n",
    "scale = (xhigh - xlow)/1000\n",
    "\n",
    "xrange = np.arange(xlow, xhigh+scale, scale)\n",
    "yrange = np.arange(ylow, yhigh+scale, scale)\n",
    "\n",
    "X, Y = np.meshgrid(xrange, yrange)\n",
    "func = sp.lambdify((x,y), model, modules = 'numpy')\n",
    "\n",
    "img = func(X, Y)\n",
    "\n"
   ]
  },
  {
   "cell_type": "code",
   "execution_count": null,
   "metadata": {},
   "outputs": [],
   "source": []
  },
  {
   "cell_type": "code",
   "execution_count": null,
   "metadata": {},
   "outputs": [],
   "source": [
    "func = sp.lambdify((x,y), model, modules = 'scipy')\n",
    "%timeit img = func(X, Y)\n",
    "\n",
    "func = sp.lambdify((x,y), model, modules = 'numpy')\n",
    "%timeit img = func(X, Y)\n",
    "\n",
    "func = sp.lambdify((x,y), model, modules = ['numexpr', 'numpy'])\n",
    "%timeit img = func(X, Y)\n",
    "\n",
    "func = sp.lambdify((x,y), model, modules = 'mpmath')\n",
    "%timeit img = func(X, Y)\n"
   ]
  },
  {
   "cell_type": "code",
   "execution_count": null,
   "metadata": {},
   "outputs": [],
   "source": []
  },
  {
   "cell_type": "code",
   "execution_count": null,
   "metadata": {},
   "outputs": [],
   "source": [
    "x, y = sp.symbols('x y')\n",
    "symbols = []\n",
    "for i in range(100):\n",
    "    symbols.append(sp.symbols(f'A_{i} xc_{i} yc_{i} s_{i}'))\n",
    "model = sum([Gaussian2D(x, y, *symb) for symb in symbols])"
   ]
  },
  {
   "cell_type": "code",
   "execution_count": null,
   "metadata": {},
   "outputs": [],
   "source": [
    "x, y = sp.symbols('x y')\n",
    "symbols = []\n",
    "for i in range(len(cell)):\n",
    "    symbols.append(sp.symbols(f'A_{i} xc_{i} yc_{i} s_{i}'))\n",
    "model = sum([Gaussian2D(x, y, *symb) for symb in symbols])"
   ]
  },
  {
   "cell_type": "code",
   "execution_count": null,
   "metadata": {},
   "outputs": [],
   "source": [
    "A = 1\n",
    "sigma = 0.1\n",
    "parameter_to_replace = []\n",
    "for i, atom in enumerate(cnt):\n",
    "    x0, y0 = atom.position[:2]\n",
    "    NEW = [A, x0, y0, sigma]\n",
    "    OLD = symbols[i]\n",
    "    replace = [(old, new) for old, new in zip(OLD, NEW)]\n",
    "    parameter_to_replace += replace\n",
    "\n",
    "model = model.subs(parameter_to_replace)"
   ]
  },
  {
   "cell_type": "code",
   "execution_count": null,
   "metadata": {},
   "outputs": [],
   "source": [
    "parameters = []\n",
    "A = 1\n",
    "s = 0.1\n",
    "for atom in cnt:\n",
    "    x0, y0 = atom.position[:2]\n",
    "    parameters.append([A, x0, y0, s])\n",
    "model = sum([Gaussian2D(x, y, *symb) for symb in parameters])"
   ]
  },
  {
   "cell_type": "code",
   "execution_count": null,
   "metadata": {},
   "outputs": [],
   "source": []
  },
  {
   "cell_type": "code",
   "execution_count": null,
   "metadata": {},
   "outputs": [],
   "source": []
  },
  {
   "cell_type": "code",
   "execution_count": null,
   "metadata": {},
   "outputs": [],
   "source": []
  },
  {
   "cell_type": "code",
   "execution_count": null,
   "metadata": {},
   "outputs": [],
   "source": []
  },
  {
   "cell_type": "code",
   "execution_count": null,
   "metadata": {},
   "outputs": [],
   "source": []
  },
  {
   "cell_type": "code",
   "execution_count": null,
   "metadata": {},
   "outputs": [],
   "source": [
    "import numpy as np\n",
    "xrange = np.linspace(-3, 3, 1000)\n",
    "yrange = np.linspace(-3, 3, 1000)\n",
    "\n",
    "X, Y = np.meshgrid(xrange, yrange)\n",
    "\n",
    "func = sp.lambdify((x,y), model)\n",
    "\n",
    "img = func(X, Y)\n",
    "\n",
    "import matplotlib.pyplot as plt\n",
    "plt.figure()\n",
    "plt.imshow(img)"
   ]
  },
  {
   "cell_type": "code",
   "execution_count": null,
   "metadata": {},
   "outputs": [],
   "source": []
  },
  {
   "cell_type": "code",
   "execution_count": null,
   "metadata": {},
   "outputs": [],
   "source": [
    "%%timeit\n",
    "sp.symbols(['x'])"
   ]
  },
  {
   "cell_type": "code",
   "execution_count": null,
   "metadata": {},
   "outputs": [],
   "source": []
  },
  {
   "cell_type": "code",
   "execution_count": null,
   "metadata": {},
   "outputs": [],
   "source": []
  }
 ],
 "metadata": {
  "kernelspec": {
   "display_name": "Python 3",
   "language": "python",
   "name": "python3"
  },
  "language_info": {
   "codemirror_mode": {
    "name": "ipython",
    "version": 3
   },
   "file_extension": ".py",
   "mimetype": "text/x-python",
   "name": "python",
   "nbconvert_exporter": "python",
   "pygments_lexer": "ipython3",
   "version": "3.8.5"
  }
 },
 "nbformat": 4,
 "nbformat_minor": 4
}
